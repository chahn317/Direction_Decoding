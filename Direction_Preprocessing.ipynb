{
 "cells": [
  {
   "cell_type": "markdown",
   "metadata": {},
   "source": [
    "## Install Required Packages"
   ]
  },
  {
   "cell_type": "code",
   "execution_count": 5,
   "metadata": {},
   "outputs": [
    {
     "name": "stdout",
     "output_type": "stream",
     "text": [
      "Requirement already satisfied: numpy in /Users/christinahahn/anaconda3/envs/neural/lib/python3.11/site-packages (1.23.5)\n",
      "Requirement already satisfied: scipy in /Users/christinahahn/anaconda3/envs/neural/lib/python3.11/site-packages (1.10.0)\n",
      "Requirement already satisfied: numpy<1.27.0,>=1.19.5 in /Users/christinahahn/anaconda3/envs/neural/lib/python3.11/site-packages (from scipy) (1.23.5)\n",
      "Requirement already satisfied: keras in /Users/christinahahn/anaconda3/envs/neural/lib/python3.11/site-packages (3.7.0)\n",
      "Requirement already satisfied: absl-py in /Users/christinahahn/anaconda3/envs/neural/lib/python3.11/site-packages (from keras) (1.4.0)\n",
      "Requirement already satisfied: numpy in /Users/christinahahn/anaconda3/envs/neural/lib/python3.11/site-packages (from keras) (1.23.5)\n",
      "Requirement already satisfied: rich in /Users/christinahahn/anaconda3/envs/neural/lib/python3.11/site-packages (from keras) (13.9.4)\n",
      "Requirement already satisfied: namex in /Users/christinahahn/anaconda3/envs/neural/lib/python3.11/site-packages (from keras) (0.0.8)\n",
      "Requirement already satisfied: h5py in /Users/christinahahn/anaconda3/envs/neural/lib/python3.11/site-packages (from keras) (3.9.0)\n",
      "Requirement already satisfied: optree in /Users/christinahahn/anaconda3/envs/neural/lib/python3.11/site-packages (from keras) (0.13.1)\n",
      "Requirement already satisfied: ml-dtypes in /Users/christinahahn/anaconda3/envs/neural/lib/python3.11/site-packages (from keras) (0.3.2)\n",
      "Requirement already satisfied: packaging in /Users/christinahahn/anaconda3/envs/neural/lib/python3.11/site-packages (from keras) (23.2)\n",
      "Requirement already satisfied: typing-extensions>=4.5.0 in /Users/christinahahn/anaconda3/envs/neural/lib/python3.11/site-packages (from optree->keras) (4.9.0)\n",
      "Requirement already satisfied: markdown-it-py>=2.2.0 in /Users/christinahahn/anaconda3/envs/neural/lib/python3.11/site-packages (from rich->keras) (3.0.0)\n",
      "Requirement already satisfied: pygments<3.0.0,>=2.13.0 in /Users/christinahahn/anaconda3/envs/neural/lib/python3.11/site-packages (from rich->keras) (2.17.2)\n",
      "Requirement already satisfied: mdurl~=0.1 in /Users/christinahahn/anaconda3/envs/neural/lib/python3.11/site-packages (from markdown-it-py>=2.2.0->rich->keras) (0.1.2)\n"
     ]
    }
   ],
   "source": [
    "%%bash\n",
    "pip install numpy\n",
    "pip install scipy\n",
    "pip install --upgrade keras"
   ]
  },
  {
   "cell_type": "markdown",
   "metadata": {},
   "source": [
    "## Imports"
   ]
  },
  {
   "cell_type": "code",
   "execution_count": 6,
   "metadata": {},
   "outputs": [],
   "source": [
    "import numpy as np\n",
    "from scipy import io\n",
    "import os\n",
    "import pickle\n",
    "\n",
    "# Preprocessing code provided by the Kording Lab\n",
    "from Neural_Decoding.preprocessing_funcs import bin_spikes\n",
    "from Neural_Decoding.preprocessing_funcs import bin_output"
   ]
  },
  {
   "cell_type": "markdown",
   "metadata": {},
   "source": [
    "## User Inputs (Modify as Necessary)"
   ]
  },
  {
   "cell_type": "code",
   "execution_count": 7,
   "metadata": {},
   "outputs": [],
   "source": [
    "mat_dir = \"Directions_Formatted\" # Name of directory storing the .mat structs\n",
    "binned_dir = \"Directions_Binned\" # Name of directory that will store binned results\n",
    "\n",
    "fd_dt = 0.1 # Size of time bins for feeding (in seconds)\n",
    "dr_dt = 0.5 # Size of time bins for drinking (in seconds)"
   ]
  },
  {
   "cell_type": "markdown",
   "metadata": {},
   "source": [
    "## Preprocessing"
   ]
  },
  {
   "cell_type": "code",
   "execution_count": 8,
   "metadata": {},
   "outputs": [],
   "source": [
    "# Get all .mat files\n",
    "parent_dir = os.path.dirname(os.path.abspath(\"__file__\"))\n",
    "data_dir = os.path.join(parent_dir, mat_dir)\n",
    "files = next(os.walk(data_dir))[2]\n",
    "\n",
    "# Create directory to store binned results\n",
    "results_dir = os.path.join(parent_dir, binned_dir)\n",
    "if not os.path.exists(results_dir):\n",
    "    os.mkdir(results_dir)\n",
    "\n",
    "for f in files:\n",
    "    # Load .mat file\n",
    "    data = io.loadmat(data_dir + \"/\" + f)\n",
    "\n",
    "    # Get neural and direction data\n",
    "    if \"M1\" in f:\n",
    "        spike_times = data['m1s']\n",
    "    else:\n",
    "        spike_times = data['s1s']\n",
    "    outputs = data['outputs']\n",
    "    output_times = data['output_times']\n",
    "\n",
    "    # Squeeze neural data\n",
    "    spike_times = np.squeeze(spike_times)\n",
    "    for i in range(spike_times.shape[0]):\n",
    "        spike_times[i] = np.squeeze(spike_times[i])\n",
    "    \n",
    "    t_start = output_times[0] # Time to start extracting data - here we just start at the beginning\n",
    "    t_end = output_times[-1] # Time to stop extracting data - here we just stop at the end\n",
    "    df = 1 # Downsampling of output (to make binning go faster) - 1 means no downsampling\n",
    "\n",
    "    # Binning\n",
    "    if \"Fd\" in f:\n",
    "        spikes_binned = bin_spikes(spike_times, fd_dt, t_start, t_end)\n",
    "        directions_binned = bin_output(outputs, output_times, fd_dt, t_start, t_end, df)\n",
    "    else:\n",
    "        spikes_binned = bin_spikes(spike_times, dr_dt, t_start, t_end)\n",
    "        directions_binned = bin_output(outputs, output_times, dr_dt, t_start, t_end, df)\n",
    "    \n",
    "    # Save results \n",
    "    res_filename = f.split(\".\")[0] + \".pickle\"\n",
    "    with open(os.path.join(results_dir, res_filename), \"wb\") as res:\n",
    "        pickle.dump([spikes_binned, directions_binned], res)"
   ]
  }
 ],
 "metadata": {
  "kernelspec": {
   "display_name": "neural",
   "language": "python",
   "name": "python3"
  },
  "language_info": {
   "codemirror_mode": {
    "name": "ipython",
    "version": 3
   },
   "file_extension": ".py",
   "mimetype": "text/x-python",
   "name": "python",
   "nbconvert_exporter": "python",
   "pygments_lexer": "ipython3",
   "version": "3.11.5"
  }
 },
 "nbformat": 4,
 "nbformat_minor": 2
}
