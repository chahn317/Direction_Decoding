{
 "cells": [
  {
   "cell_type": "markdown",
   "metadata": {},
   "source": [
    "## Install Required Packages"
   ]
  },
  {
   "cell_type": "code",
   "execution_count": 30,
   "metadata": {},
   "outputs": [
    {
     "name": "stdout",
     "output_type": "stream",
     "text": [
      "Requirement already satisfied: pip in /Users/christinahahn/anaconda3/envs/neural/lib/python3.11/site-packages (24.3.1)\n",
      "Requirement already satisfied: numpy in /Users/christinahahn/anaconda3/envs/neural/lib/python3.11/site-packages (1.23.5)\n",
      "Requirement already satisfied: scipy in /Users/christinahahn/anaconda3/envs/neural/lib/python3.11/site-packages (1.10.0)\n",
      "Requirement already satisfied: numpy<1.27.0,>=1.19.5 in /Users/christinahahn/anaconda3/envs/neural/lib/python3.11/site-packages (from scipy) (1.23.5)\n",
      "Requirement already satisfied: keras in /Users/christinahahn/anaconda3/envs/neural/lib/python3.11/site-packages (2.12.0)\n",
      "Requirement already satisfied: tensorflow in /Users/christinahahn/anaconda3/envs/neural/lib/python3.11/site-packages (2.12.0)\n",
      "Requirement already satisfied: absl-py>=1.0.0 in /Users/christinahahn/anaconda3/envs/neural/lib/python3.11/site-packages (from tensorflow) (1.4.0)\n",
      "Requirement already satisfied: astunparse>=1.6.0 in /Users/christinahahn/anaconda3/envs/neural/lib/python3.11/site-packages (from tensorflow) (1.6.3)\n",
      "Requirement already satisfied: flatbuffers>=2.0 in /Users/christinahahn/anaconda3/envs/neural/lib/python3.11/site-packages (from tensorflow) (2.0)\n",
      "Requirement already satisfied: gast<=0.4.0,>=0.2.1 in /Users/christinahahn/anaconda3/envs/neural/lib/python3.11/site-packages (from tensorflow) (0.4.0)\n",
      "Requirement already satisfied: google-pasta>=0.1.1 in /Users/christinahahn/anaconda3/envs/neural/lib/python3.11/site-packages (from tensorflow) (0.2.0)\n",
      "Requirement already satisfied: h5py>=2.9.0 in /Users/christinahahn/anaconda3/envs/neural/lib/python3.11/site-packages (from tensorflow) (3.9.0)\n",
      "Requirement already satisfied: jax>=0.3.15 in /Users/christinahahn/anaconda3/envs/neural/lib/python3.11/site-packages (from tensorflow) (0.4.24)\n",
      "Requirement already satisfied: libclang>=13.0.0 in /Users/christinahahn/anaconda3/envs/neural/lib/python3.11/site-packages (from tensorflow) (16.0.6)\n",
      "Requirement already satisfied: numpy<1.24,>=1.22 in /Users/christinahahn/anaconda3/envs/neural/lib/python3.11/site-packages (from tensorflow) (1.23.5)\n",
      "Requirement already satisfied: opt-einsum>=2.3.2 in /Users/christinahahn/anaconda3/envs/neural/lib/python3.11/site-packages (from tensorflow) (3.3.0)\n",
      "Requirement already satisfied: packaging in /Users/christinahahn/anaconda3/envs/neural/lib/python3.11/site-packages (from tensorflow) (23.2)\n",
      "Requirement already satisfied: protobuf!=4.21.0,!=4.21.1,!=4.21.2,!=4.21.3,!=4.21.4,!=4.21.5,<5.0.0dev,>=3.20.3 in /Users/christinahahn/anaconda3/envs/neural/lib/python3.11/site-packages (from tensorflow) (3.20.3)\n",
      "Requirement already satisfied: setuptools in /Users/christinahahn/anaconda3/envs/neural/lib/python3.11/site-packages (from tensorflow) (68.2.2)\n",
      "Requirement already satisfied: six>=1.12.0 in /Users/christinahahn/anaconda3/envs/neural/lib/python3.11/site-packages (from tensorflow) (1.16.0)\n",
      "Requirement already satisfied: termcolor>=1.1.0 in /Users/christinahahn/anaconda3/envs/neural/lib/python3.11/site-packages (from tensorflow) (2.1.0)\n",
      "Requirement already satisfied: typing-extensions>=3.6.6 in /Users/christinahahn/anaconda3/envs/neural/lib/python3.11/site-packages (from tensorflow) (4.9.0)\n",
      "Requirement already satisfied: wrapt<1.15,>=1.11.0 in /Users/christinahahn/anaconda3/envs/neural/lib/python3.11/site-packages (from tensorflow) (1.14.1)\n",
      "Requirement already satisfied: grpcio<2.0,>=1.24.3 in /Users/christinahahn/anaconda3/envs/neural/lib/python3.11/site-packages (from tensorflow) (1.48.2)\n",
      "Requirement already satisfied: tensorboard<2.13,>=2.12 in /Users/christinahahn/anaconda3/envs/neural/lib/python3.11/site-packages (from tensorflow) (2.12.1)\n",
      "Requirement already satisfied: tensorflow-estimator<2.13,>=2.12.0 in /Users/christinahahn/anaconda3/envs/neural/lib/python3.11/site-packages (from tensorflow) (2.12.0)\n",
      "Requirement already satisfied: keras<2.13,>=2.12.0 in /Users/christinahahn/anaconda3/envs/neural/lib/python3.11/site-packages (from tensorflow) (2.12.0)\n",
      "Requirement already satisfied: wheel<1.0,>=0.23.0 in /Users/christinahahn/anaconda3/envs/neural/lib/python3.11/site-packages (from astunparse>=1.6.0->tensorflow) (0.35.1)\n",
      "Requirement already satisfied: ml-dtypes>=0.2.0 in /Users/christinahahn/anaconda3/envs/neural/lib/python3.11/site-packages (from jax>=0.3.15->tensorflow) (0.3.2)\n",
      "Requirement already satisfied: scipy>=1.9 in /Users/christinahahn/anaconda3/envs/neural/lib/python3.11/site-packages (from jax>=0.3.15->tensorflow) (1.10.0)\n",
      "Requirement already satisfied: google-auth<3,>=1.6.3 in /Users/christinahahn/anaconda3/envs/neural/lib/python3.11/site-packages (from tensorboard<2.13,>=2.12->tensorflow) (2.6.0)\n",
      "Requirement already satisfied: google-auth-oauthlib<1.1,>=0.5 in /Users/christinahahn/anaconda3/envs/neural/lib/python3.11/site-packages (from tensorboard<2.13,>=2.12->tensorflow) (0.5.2)\n",
      "Requirement already satisfied: markdown>=2.6.8 in /Users/christinahahn/anaconda3/envs/neural/lib/python3.11/site-packages (from tensorboard<2.13,>=2.12->tensorflow) (3.4.1)\n",
      "Requirement already satisfied: requests<3,>=2.21.0 in /Users/christinahahn/anaconda3/envs/neural/lib/python3.11/site-packages (from tensorboard<2.13,>=2.12->tensorflow) (2.31.0)\n",
      "Requirement already satisfied: tensorboard-data-server<0.8.0,>=0.7.0 in /Users/christinahahn/anaconda3/envs/neural/lib/python3.11/site-packages (from tensorboard<2.13,>=2.12->tensorflow) (0.7.0)\n",
      "Requirement already satisfied: tensorboard-plugin-wit>=1.6.0 in /Users/christinahahn/anaconda3/envs/neural/lib/python3.11/site-packages (from tensorboard<2.13,>=2.12->tensorflow) (1.8.1)\n",
      "Requirement already satisfied: werkzeug>=1.0.1 in /Users/christinahahn/anaconda3/envs/neural/lib/python3.11/site-packages (from tensorboard<2.13,>=2.12->tensorflow) (2.3.8)\n",
      "Requirement already satisfied: cachetools<6.0,>=2.0.0 in /Users/christinahahn/anaconda3/envs/neural/lib/python3.11/site-packages (from google-auth<3,>=1.6.3->tensorboard<2.13,>=2.12->tensorflow) (4.2.2)\n",
      "Requirement already satisfied: pyasn1-modules>=0.2.1 in /Users/christinahahn/anaconda3/envs/neural/lib/python3.11/site-packages (from google-auth<3,>=1.6.3->tensorboard<2.13,>=2.12->tensorflow) (0.2.8)\n",
      "Requirement already satisfied: rsa<5,>=3.1.4 in /Users/christinahahn/anaconda3/envs/neural/lib/python3.11/site-packages (from google-auth<3,>=1.6.3->tensorboard<2.13,>=2.12->tensorflow) (4.7.2)\n",
      "Requirement already satisfied: requests-oauthlib>=0.7.0 in /Users/christinahahn/anaconda3/envs/neural/lib/python3.11/site-packages (from google-auth-oauthlib<1.1,>=0.5->tensorboard<2.13,>=2.12->tensorflow) (1.3.0)\n",
      "Requirement already satisfied: charset-normalizer<4,>=2 in /Users/christinahahn/anaconda3/envs/neural/lib/python3.11/site-packages (from requests<3,>=2.21.0->tensorboard<2.13,>=2.12->tensorflow) (2.0.4)\n",
      "Requirement already satisfied: idna<4,>=2.5 in /Users/christinahahn/anaconda3/envs/neural/lib/python3.11/site-packages (from requests<3,>=2.21.0->tensorboard<2.13,>=2.12->tensorflow) (3.4)\n",
      "Requirement already satisfied: urllib3<3,>=1.21.1 in /Users/christinahahn/anaconda3/envs/neural/lib/python3.11/site-packages (from requests<3,>=2.21.0->tensorboard<2.13,>=2.12->tensorflow) (2.1.0)\n",
      "Requirement already satisfied: certifi>=2017.4.17 in /Users/christinahahn/anaconda3/envs/neural/lib/python3.11/site-packages (from requests<3,>=2.21.0->tensorboard<2.13,>=2.12->tensorflow) (2024.8.30)\n",
      "Requirement already satisfied: MarkupSafe>=2.1.1 in /Users/christinahahn/anaconda3/envs/neural/lib/python3.11/site-packages (from werkzeug>=1.0.1->tensorboard<2.13,>=2.12->tensorflow) (2.1.3)\n",
      "Requirement already satisfied: pyasn1<0.5.0,>=0.4.6 in /Users/christinahahn/anaconda3/envs/neural/lib/python3.11/site-packages (from pyasn1-modules>=0.2.1->google-auth<3,>=1.6.3->tensorboard<2.13,>=2.12->tensorflow) (0.4.8)\n",
      "Requirement already satisfied: oauthlib>=3.0.0 in /Users/christinahahn/anaconda3/envs/neural/lib/python3.11/site-packages (from requests-oauthlib>=0.7.0->google-auth-oauthlib<1.1,>=0.5->tensorboard<2.13,>=2.12->tensorflow) (3.2.2)\n"
     ]
    }
   ],
   "source": [
    "%%bash\n",
    "python3.11 -m pip install --upgrade pip\n",
    "pip install numpy\n",
    "pip install scipy\n",
    "pip install keras\n",
    "pip install tensorflow"
   ]
  },
  {
   "cell_type": "markdown",
   "metadata": {},
   "source": [
    "## Imports"
   ]
  },
  {
   "cell_type": "code",
   "execution_count": 42,
   "metadata": {},
   "outputs": [],
   "source": [
    "import numpy as np\n",
    "from scipy import io\n",
    "import os\n",
    "import pickle\n",
    "from pprint import pprint\n",
    "\n",
    "# Import function to get covariate matrix that includes spike history from previous bins\n",
    "from Neural_Decoding.preprocessing_funcs import get_spikes_with_history\n",
    "\n",
    "# Import metrics\n",
    "from Neural_Decoding.metrics import get_R2\n",
    "from Neural_Decoding.metrics import get_rho\n",
    "\n",
    "# Import decoder functions\n",
    "from Neural_Decoding.decoders import LSTMDecoder\n"
   ]
  },
  {
   "cell_type": "markdown",
   "metadata": {},
   "source": [
    "## User Inputs (Modify as Necessary)"
   ]
  },
  {
   "cell_type": "code",
   "execution_count": 32,
   "metadata": {},
   "outputs": [],
   "source": [
    "binned_dir = \"Directions_Binned\" # Name of directory that will store binned results\n",
    "\n",
    "bins_before = 1 # How many bins of neural data prior to the output are used for decoding (fewer bins is faster)\n",
    "bins_current = 1 # Whether to use concurrent time bin of neural data\n",
    "bins_after = 1 # How many bins of neural data after the output are used for decoding (fewer bins is faster)\n",
    "\n",
    "training_range = [0, 0.85] # Range of training data\n",
    "testing_range = [0.85, 1] # Range of testing data"
   ]
  },
  {
   "cell_type": "markdown",
   "metadata": {},
   "source": [
    "## LSTM"
   ]
  },
  {
   "cell_type": "code",
   "execution_count": null,
   "metadata": {},
   "outputs": [],
   "source": [
    "# Get all .pickle files\n",
    "parent_dir = os.path.dirname(os.path.abspath(\"__file__\"))\n",
    "data_dir = os.path.join(parent_dir, binned_dir)\n",
    "files = next(os.walk(data_dir))[2]\n",
    "\n",
    "results = {}\n",
    "\n",
    "for f in files:\n",
    "    dataset = f.split('.')[0]\n",
    "    print('dataset: ' + dataset)\n",
    "    with open(data_dir + \"/\" + f, 'rb') as res:\n",
    "        neural_data, pos_binned = pickle.load(res,encoding='latin1')\n",
    "\n",
    "    X = get_spikes_with_history(neural_data, bins_before, bins_after, bins_current)\n",
    "    y = pos_binned\n",
    "\n",
    "    num_examples = X.shape[0]\n",
    "    training_set = np.arange(int(np.round(training_range[0] * num_examples)) + bins_before, int(np.round(training_range[1] * num_examples)) - bins_after)\n",
    "    testing_set = np.arange(int(np.round(testing_range[0] * num_examples)) + bins_before, int(np.round(testing_range[1] * num_examples)) - bins_after)\n",
    "\n",
    "    # Get training data\n",
    "    X_train = X[training_set, :, :]\n",
    "    y_train = y[training_set, :]\n",
    "\n",
    "    # Get testing data\n",
    "    X_test = X[testing_set, :, :]\n",
    "    y_test = y[testing_set, :]\n",
    "\n",
    "    # Z-score \"X\" inputs. \n",
    "    X_train_mean = np.nanmean(X_train, axis=0)\n",
    "    X_train_std = np.nanstd(X_train, axis=0)\n",
    "    X_train = np.divide((X_train - X_train_mean), X_train_std, where=X_train_std[1] != 0)\n",
    "    X_test = np.divide((X_test - X_train_mean), X_train_std, where=X_train_std[1] != 0)\n",
    "\n",
    "\n",
    "    # Zero-center outputs\n",
    "    y_train_mean = np.nanmean(y_train, axis=0)\n",
    "    y_train = y_train - y_train_mean\n",
    "    y_test = y_test - y_train_mean\n",
    "\n",
    "    # Declare model\n",
    "    model_lstm = LSTMDecoder(units=400, dropout=0, num_epochs=20, verbose=0)\n",
    "\n",
    "    # Fit model\n",
    "    model_lstm.fit(X_train, y_train)\n",
    "\n",
    "    # Get predictions\n",
    "    y_predicted_lstm = model_lstm.predict(X_test)\n",
    "\n",
    "    # Get metric of fit\n",
    "    rhos_lstm = get_rho(y_test, y_predicted_lstm)\n",
    "    print('R2:', rhos_lstm ** 2)\n",
    "\n",
    "    results[dataset] = rhos_lstm ** 2"
   ]
  },
  {
   "cell_type": "code",
   "execution_count": 55,
   "metadata": {},
   "outputs": [
    {
     "name": "stdout",
     "output_type": "stream",
     "text": [
      "{'RyDrNB_M1': array([0.94449533]),\n",
      " 'RyDrNB_S1': array([0.00240857]),\n",
      " 'RyFdNB_M1': array([0.82546535]),\n",
      " 'RyFdNB_S1': array([0.0129843]),\n",
      " 'YeDrNB_M1': array([0.21815668]),\n",
      " 'YeDrNB_S1': array([0.00146558]),\n",
      " 'YeFdNB_M1': array([0.71520104]),\n",
      " 'YeFdNB_S1': array([0.1302585])}\n"
     ]
    }
   ],
   "source": [
    "# pprint(results)\n",
    "\n",
    "m1s = {k : results[k] for k in results if \"M1\" in k}\n",
    "s1s = {k : results[k] for k in results if \"S1\" in k}\n",
    "rys = {k : results[k] for k in results if \"Ry\" in k}\n",
    "yes = {k : results[k] for k in results if \"Ye\" in k}\n",
    "drs = {k : results[k] for k in results if \"Dr\" in k}\n",
    "fds = {k : results[k] for k in results if \"Fd\" in k}\n",
    "cons = {k : results[k] for k in results if \"Con\" in k}\n",
    "nbs = {k : results[k] for k in results if \"NB\" in k}\n",
    "pprint(nbs)"
   ]
  }
 ],
 "metadata": {
  "kernelspec": {
   "display_name": "neural",
   "language": "python",
   "name": "python3"
  },
  "language_info": {
   "codemirror_mode": {
    "name": "ipython",
    "version": 3
   },
   "file_extension": ".py",
   "mimetype": "text/x-python",
   "name": "python",
   "nbconvert_exporter": "python",
   "pygments_lexer": "ipython3",
   "version": "3.11.5"
  }
 },
 "nbformat": 4,
 "nbformat_minor": 2
}
